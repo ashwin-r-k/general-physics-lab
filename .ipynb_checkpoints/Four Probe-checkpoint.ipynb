{
 "cells": [
  {
   "cell_type": "markdown",
   "metadata": {
    "colab_type": "text",
    "id": "view-in-github"
   },
   "source": [
    "<a href=\"https://colab.research.google.com/github/1Light/Experimental-physics-lab/blob/main/Four%20Probe.ipynb\" target=\"_parent\"><img src=\"https://colab.research.google.com/assets/colab-badge.svg\" alt=\"Open In Colab\"/></a>"
   ]
  },
  {
   "cell_type": "markdown",
   "metadata": {
    "id": "8KxQqK0p5S1b"
   },
   "source": [
    "\n",
    "##Four Probe Method\n",
    "\n",
    "\n",
    "\n"
   ]
  },
  {
   "cell_type": "code",
   "execution_count": 1,
   "metadata": {
    "id": "tXmVrePM6XfD",
    "outputId": "0a784650-f7d2-4c38-f25c-391aa49a13e0"
   },
   "outputs": [
    {
     "name": "stdout",
     "output_type": "stream",
     "text": [
      "imported\n"
     ]
    }
   ],
   "source": [
    "import numpy as np\n",
    "import pandas as pd\n",
    "import matplotlib.pyplot as plt\n",
    "from scipy.stats import linregress\n",
    "import pandas as pd\n",
    "\n",
    "print(\"imported\")"
   ]
  },
  {
   "cell_type": "code",
   "execution_count": 2,
   "metadata": {},
   "outputs": [
    {
     "name": "stdout",
     "output_type": "stream",
     "text": [
      "      T    V_H   V_C   V_avg\n",
      "0    30  99.70   NaN  49.850\n",
      "1    35  76.20   NaN  38.100\n",
      "2    40  63.90  78.6  71.250\n",
      "3    45  51.10  64.3  57.700\n",
      "4    50  42.60  52.9  47.750\n",
      "5    55  36.30  43.6  39.950\n",
      "6    60  31.10  36.1  33.600\n",
      "7    65  26.60  30.3  28.450\n",
      "8    70  23.10  25.5  24.300\n",
      "9    75  19.80  21.7  20.750\n",
      "10   80  17.10  18.7  17.900\n",
      "11   85  14.80  15.9  15.350\n",
      "12   90  12.90  13.7  13.300\n",
      "13   95  11.10  11.8  11.450\n",
      "14  100   9.70  10.3  10.000\n",
      "15  105   8.45   9.1   8.775\n",
      "16  110   7.20   7.9   7.550\n",
      "17  115   6.30   6.9   6.600\n",
      "18  120   5.50   6.1   5.800\n",
      "19  125   4.70   5.2   4.950\n"
     ]
    }
   ],
   "source": [
    "df = pd.read_excel(r'/home/ashwin/Git/general-physics-lab/foreprobe.xlsx')\n",
    "print(df)"
   ]
  },
  {
   "cell_type": "code",
   "execution_count": null,
   "metadata": {},
   "outputs": [],
   "source": []
  },
  {
   "cell_type": "code",
   "execution_count": null,
   "metadata": {
    "id": "xw9Q-vnL5NyU",
    "outputId": "76caa8eb-02f1-47d3-c892-b6ad9e62ad51"
   },
   "outputs": [
    {
     "name": "stdout",
     "output_type": "stream",
     "text": [
      "Doing Thickness effect correction for Non Condictive bottom  0.1783321018264404\n",
      "Doing Lateral size effect correction  0.8057965136567927\n",
      "    Serial no   Voltage (V)   Temperature (K)  rho (Ohms.m)     rho (Ohms.cm)  \\\n",
      "0            1         0.698             298.0     1.58e-01  15.76 +/- 19.859   \n",
      "1            2         0.662             308.0     1.49e-01  14.94 +/- 17.863   \n",
      "2            3         0.574             318.0     1.30e-01   12.96 +/- 13.43   \n",
      "3            4         0.460             328.0     1.04e-01   10.38 +/- 8.625   \n",
      "4            5         0.350             338.0     7.90e-02     7.9 +/- 4.993   \n",
      "5            6         0.261             348.0     5.89e-02    5.89 +/- 2.777   \n",
      "6            7         0.192             358.0     4.33e-02    4.33 +/- 1.503   \n",
      "7            8         0.142             368.0     3.21e-02    3.21 +/- 0.822   \n",
      "8            9         0.106             378.0     2.39e-02    2.39 +/- 0.458   \n",
      "9           10         0.081             388.0     1.83e-02    1.83 +/- 0.267   \n",
      "10          11         0.061             398.0     1.38e-02    1.38 +/- 0.152   \n",
      "11          12         0.048             408.0     1.08e-02    1.08 +/- 0.094   \n",
      "12          13         0.037             418.0     8.35e-03    0.84 +/- 0.056   \n",
      "13          14         0.030             428.0     6.77e-03    0.68 +/- 0.037   \n",
      "14          15         0.024             438.0     5.42e-03    0.54 +/- 0.023   \n",
      "\n",
      "    T * 10^-3   log_Rho  \n",
      "0    3.355705 -1.847985  \n",
      "1    3.246753 -1.900939  \n",
      "2    3.144654 -2.043575  \n",
      "3    3.048780 -2.264978  \n",
      "4    2.958580 -2.538271  \n",
      "5    2.873563 -2.831684  \n",
      "6    2.793296 -3.138709  \n",
      "7    2.717391 -3.440377  \n",
      "8    2.645503 -3.732765  \n",
      "9    2.577320 -4.001755  \n",
      "10   2.512563 -4.285330  \n",
      "11   2.450980 -4.525003  \n",
      "12   2.392344 -4.785286  \n",
      "13   2.336449 -4.995007  \n",
      "14   2.283105 -5.218151  \n",
      "Energy Band Gap in eV =  0.58\n"
     ]
    },
    {
     "data": {
      "image/png": "[encoded data removed]",
      "text/plain": [
       "<Figure size 432x288 with 1 Axes>"
      ]
     },
     "metadata": {
      "needs_background": "light",
      "tags": []
     },
     "output_type": "display_data"
    }
   ],
   "source": [
    "#T = [298.0, 308.0, 318.0, 328.0, 338.0, 348.0, 358.0, 368.0, 378.0, 388.0, 398.0, 408.0, 418.0, 428.0, 438.0] #in Kelvin\n",
    "#V = [0.698, 0.662, 0.574, 0.46, 0.35, 0.261, 0.192, 0.142, 0.106, 0.081, 0.061, 0.048, 0.037, 0.03, 0.024]  #in Volts\n",
    "I = 2.00 #mA\n",
    "\n",
    "delta_V = 0.001 #V least count\n",
    "delta_I = 0.01 #mA least count\n",
    "\n",
    "\n",
    "S = 2.00 #mm\n",
    "W = 0.50 #mm\n",
    "t = 0.50 #mm\n",
    "\n",
    "Length = 1.2 #cm\n",
    "Breadth = 0.9 #cm\n",
    "\n",
    "is_Condictive_bottom = False\n",
    "\n",
    "###\n",
    "'''\n",
    " Do not edit Consant below \n",
    "'''\n",
    "###\n",
    "\n",
    "Length = Length * pow(10,-2) #M\n",
    "Breadth = Breadth * pow(10,-2) #M\n",
    "\n",
    "k = 8.6E-5\n",
    "\n",
    "I = I * pow(10,-3) #A\n",
    "delta_I = 0.01 * pow(10,-3)\n",
    "S = S * pow(10,-3)#M\n",
    "W = W * pow(10,-3) #M\n",
    "t = t * pow(10,-3)  #M\n",
    "\n",
    "\n",
    "G7 = 2 * np.log(2) * S / t \n",
    "\n",
    "def rho_0(V, I):\n",
    "    #print ((V / I ) * 2 * np.pi * S)\n",
    "    return (V / I ) * 2 * np.pi * S\n",
    "\n",
    "def rho(V, I):\n",
    "  return rho_0( V , I ) * F_correction\n",
    "\n",
    "def F1():\n",
    "    t_S = t/S\n",
    "    if (is_Condictive_bottom):\n",
    "        correction = t_S /( 2 * np.log(np.cosh(t_S) / np.cosh(t_S/2)))\n",
    "        print(\"Doing Thickness effect correction for Condictive bottom \",correction)\n",
    "    else:\n",
    "        correction = t_S /( 2* np.log(np.sinh(t_S) / np.sinh(t_S/2)))\n",
    "        print(\"Doing Thickness effect correction for Non Condictive bottom \",correction)\n",
    "    return correction\n",
    " \n",
    "def F0():\n",
    "    t_S = t/S\n",
    "    correction = t_S /( 2* np.log(2) )\n",
    "    print(\"Doing Thickness effect correction for Non Condictive bottom \",correction)\n",
    "    return correction\n",
    " \n",
    "    \n",
    "def F2() :\n",
    "    d_S = Length / S\n",
    "    if (Length >= 40* S):\n",
    "        correction = 1\n",
    "    else:\n",
    "        correction = np.log(2) / ( np.log(2) + np.log( (d_S**2 + 3)/(d_S**2 - 3) ))\n",
    "        print(\"Doing Lateral size effect correction \",correction)\n",
    "    return correction\n",
    "                                     \n",
    "def F():\n",
    "    return F1()*F2()\n",
    "\n",
    "def DelRhoFn(rho_i , V  ):\n",
    "    const =  2 * np.pi * S * F_correction \n",
    "    val = const * rho_i * np.sqrt( pow((V/delta_V),2) + pow((delta_I / I ),2) )\n",
    "    return val\n",
    "\n",
    "F_correction =F()\n",
    "\n",
    "Rho = []\n",
    "T_1 = [] #10^-3\n",
    "log_Rho = [] \n",
    "srNo = []\n",
    "RhoTable = []\n",
    "delta_Rho = []\n",
    "\n",
    "for i in range(len(T)):\n",
    "  srNo.append(i+1)\n",
    "  rho_i = rho(V[i], I)  \n",
    "  Rho.append( \"{:.2e}\".format(rho_i)  )\n",
    "\n",
    "  delta_Rho.append(DelRhoFn(rho_i,V[i]))\n",
    "  RhoTable.append( str(round(rho_i * 100 , 2)) + \" +/- \"+ str(round( DelRhoFn(rho_i,V[i])*100 ,3))) \n",
    "\n",
    "\n",
    "  T_1.append( 1 / T[i] )\n",
    "  log_Rho.append ( np.log( rho_i ))\n",
    "\n",
    " \n",
    "\n",
    "table = { 'Serial no ' :  srNo,\n",
    "         'Voltage (V) ': V,\n",
    "         'Temperature (K) ': T,\n",
    "         'rho (Ohms.m)': Rho,\n",
    "         \n",
    "         'rho (Ohms.cm)': RhoTable,\n",
    "         #'Delta rho (Ohms.m)': delta_Rho,\n",
    "         'T * 10^-3': np.array(T_1) * pow(10,3),\n",
    "         'log_Rho': log_Rho }\n",
    "\n",
    "# log to base e is used and the Temp in Table is in terms of 10^-3\n",
    "\n",
    "dataframe = pd.DataFrame(table)\n",
    "print(dataframe)\n",
    "\n",
    "result = linregress(T_1, log_Rho)\n",
    "\n",
    "m = result.slope\n",
    "b = result.intercept\n",
    "\n",
    "delta_m = result.stderr \n",
    "#delta_b = result.intercept_stderr \n",
    "\n",
    "\n",
    "plt.scatter(T_1, log_Rho)\n",
    "plt.plot(T_1, np.array(T_1) * m + b , color=\"red\")  \n",
    "print(\"Energy Band Gap in eV = \" , round(2*8.6*pow(10,-5) * m ,2))"
   ]
  },
  {
   "cell_type": "code",
   "execution_count": null,
   "metadata": {
    "id": "-9rvIWBJKto1",
    "outputId": "dcfcbc9e-9a4a-42e2-a0c0-6ade482a0d52"
   },
   "outputs": [
    {
     "data": {
      "image/png": "[encoded data removed]",
      "text/plain": [
       "<Figure size 432x288 with 1 Axes>"
      ]
     },
     "metadata": {
      "needs_background": "light",
      "tags": []
     },
     "output_type": "display_data"
    },
    {
     "name": "stdout",
     "output_type": "stream",
     "text": [
      "Energy Band Gap in eV =  0.58\n"
     ]
    },
    {
     "data": {
      "image/png": "[encoded data removed]",
      "text/plain": [
       "<Figure size 432x288 with 1 Axes>"
      ]
     },
     "metadata": {
      "needs_background": "light",
      "tags": []
     },
     "output_type": "display_data"
    },
    {
     "name": "stdout",
     "output_type": "stream",
     "text": [
      "Energy Band Gap = 0.58 +/- 0.03 eV\n"
     ]
    }
   ],
   "source": [
    "import matplotlib.ticker as mtick\n",
    "\n",
    "fig = plt.figure()\n",
    "ax = fig.add_subplot(111)\n",
    "\n",
    "ax.scatter(T_1, log_Rho,label = 'observation')\n",
    "ax.plot(T_1, np.array(T_1) * m + b , color=\"red\",label = 'least squares regression')\n",
    "#ax.yaxis.set_major_formatter(mtick.FormatStrFormatter('%.2e'))\n",
    "ax.xaxis.set_major_formatter(mtick.FormatStrFormatter('%.2e'))\n",
    "\n",
    "ax.legend()\n",
    "plt.xlabel(r\" 1/T  K^-1 \")\n",
    "plt.ylabel(r\" $ln(rho)$\")\n",
    "\n",
    "plt.show()\n",
    "print(\"Energy Band Gap in eV = \" , round(2*8.6*pow(10,-5) * m ,2))\n",
    "\n",
    "\n",
    "fig2 = plt.figure()\n",
    "\n",
    "ay = fig2.add_subplot(111)\n",
    "\n",
    "\n",
    "ay.scatter(T_1, log_Rho,label = 'observation')\n",
    "\n",
    "ay.plot(T_1, np.array(T_1) * m + b , color=\"red\",label = 'least squares regression')\n",
    "ay.plot(T_1, np.array(T_1) * (m +delta_m ) + b , color=\"green\",label = 'standard deviation')\n",
    "ay.plot(T_1, np.array(T_1) * (m-delta_m) + b , color=\"green\")\n",
    "\n",
    "\n",
    "#ax.yaxis.set_major_formatter(mtick.FormatStrFormatter('%.2e'))\n",
    "ay.xaxis.set_major_formatter(mtick.FormatStrFormatter('%.2e'))\n",
    "\n",
    "ay.legend()\n",
    "plt.xlabel(r\" 1/T  K^-1 \")\n",
    "plt.ylabel(r\" $ln(rho)$\")\n",
    "\n",
    "plt.show()\n",
    "print(\"Energy Band Gap = {0} +/- {1} eV\".format( round(2*8.6*pow(10,-5) * m ,2), round(2*8.6*pow(10,-5) * delta_m ,2) ))\n",
    "\n",
    "fig2.savefig(\"FigSlopeUnc.png\")"
   ]
  },
  {
   "cell_type": "code",
   "execution_count": null,
   "metadata": {
    "id": "9BvvLjVpKto2",
    "outputId": "e42e2fab-2b81-4c1b-f6d7-e150325344d2"
   },
   "outputs": [
    {
     "name": "stdout",
     "output_type": "stream",
     "text": [
      "    Serial no   Voltage (V)   Temperature (K)      rho (Ohms.cm)  T * 10^-3  \\\n",
      "0            1         0.698             298.0  15.76 +/- 19.859   3.355705   \n",
      "1            2         0.662             308.0  14.94 +/- 17.863   3.246753   \n",
      "2            3         0.574             318.0   12.96 +/- 13.43   3.144654   \n",
      "3            4         0.460             328.0   10.38 +/- 8.625   3.048780   \n",
      "4            5         0.350             338.0     7.9 +/- 4.993   2.958580   \n",
      "5            6         0.261             348.0    5.89 +/- 2.777   2.873563   \n",
      "6            7         0.192             358.0    4.33 +/- 1.503   2.793296   \n",
      "7            8         0.142             368.0    3.21 +/- 0.822   2.717391   \n",
      "8            9         0.106             378.0    2.39 +/- 0.458   2.645503   \n",
      "9           10         0.081             388.0    1.83 +/- 0.267   2.577320   \n",
      "10          11         0.061             398.0    1.38 +/- 0.152   2.512563   \n",
      "11          12         0.048             408.0    1.08 +/- 0.094   2.450980   \n",
      "12          13         0.037             418.0    0.84 +/- 0.056   2.392344   \n",
      "13          14         0.030             428.0    0.68 +/- 0.037   2.336449   \n",
      "14          15         0.024             438.0    0.54 +/- 0.023   2.283105   \n",
      "\n",
      "   log_Rho (rho in ohm.m )  \n",
      "0          -1.848 +/- 1.26  \n",
      "1         -1.901 +/- 1.195  \n",
      "2         -2.044 +/- 1.037  \n",
      "3         -2.265 +/- 0.831  \n",
      "4         -2.538 +/- 0.632  \n",
      "5         -2.832 +/- 0.471  \n",
      "6         -3.139 +/- 0.347  \n",
      "7          -3.44 +/- 0.256  \n",
      "8         -3.733 +/- 0.191  \n",
      "9         -4.002 +/- 0.146  \n",
      "10         -4.285 +/- 0.11  \n",
      "11        -4.525 +/- 0.087  \n",
      "12        -4.785 +/- 0.067  \n",
      "13        -4.995 +/- 0.054  \n",
      "14        -5.218 +/- 0.043  \n"
     ]
    }
   ],
   "source": [
    "Rho = []\n",
    "T_1 = [] #10^-3\n",
    "log_Rho = [] \n",
    "srNo = []\n",
    "RhoTable = []\n",
    "delta_Rho = []\n",
    "log_Rho_Table = []\n",
    "for i in range(len(T)):\n",
    "  srNo.append(i+1)\n",
    "  rho_i = rho(V[i], I)  \n",
    "  Rho.append( rho_i )\n",
    "  delta_Rho.append(DelRhoFn(rho_i,V[i]))\n",
    "  RhoTable.append( str(round(rho_i * 100 , 2)) + \" +/- \"+ str(round( DelRhoFn(rho_i,V[i])*100 ,3))) \n",
    "  T_1.append( 1 / T[i] )\n",
    "  log_Rho.append ( np.log( rho_i ))\n",
    "  log_Rho_Table.append(str(round(np.log( rho_i ),3) )+ \" +/- \"+str(round(DelRhoFn(rho_i,V[i]) / rho(V[i], I) ,3 ) ) ) \n",
    "\n",
    "\n",
    " \n",
    "\n",
    "table = { 'Serial no ' :  srNo,\n",
    "         'Voltage (V) ': V,\n",
    "         'Temperature (K) ': T,\n",
    "         'rho (Ohms.cm)': RhoTable,\n",
    "         #'Delta rho (Ohms.m)': delta_Rho,\n",
    "         'T * 10^-3': np.array(T_1) * pow(10,3),\n",
    "         'log_Rho (rho in ohm.m )': log_Rho_Table }\n",
    "\n",
    "# log to base e is used and the Temp in Table is in terms of 10^-3\n",
    "\n",
    "dataframe = pd.DataFrame(table)\n",
    "print(dataframe)"
   ]
  },
  {
   "cell_type": "code",
   "execution_count": null,
   "metadata": {
    "id": "5qH97_L8Q2N4",
    "outputId": "1958d963-ae4e-4c1f-e801-e922ffe4b204"
   },
   "outputs": [
    {
     "name": "stdout",
     "output_type": "stream",
     "text": [
      "V =  [0.698, 0.662, 0.574, 0.46, 0.35, 0.261, 0.192, 0.142, 0.106, 0.081, 0.061, 0.048, 0.037, 0.03, 0.024]\n",
      "T =  [298.0, 308.0, 318.0, 328.0, 338.0, 348.0, 358.0, 368.0, 378.0, 388.0, 398.0, 408.0, 418.0, 428.0, 438.0]\n"
     ]
    }
   ],
   "source": [
    "## This is to conver the copied datasheet to clean easy arrays.\n",
    "\n",
    "\n",
    "A = '''1\n",
    "0.698\n",
    "298\n",
    "2\n",
    "0.662\n",
    "308\n",
    "3\n",
    "0.574\n",
    "318\n",
    "4\n",
    "0.46\n",
    "328\n",
    "5\n",
    "0.35\n",
    "338\n",
    "6\n",
    "0.261\n",
    "348\n",
    "7\n",
    "0.192\n",
    "358\n",
    "8\n",
    "0.142\n",
    "368\n",
    "9\n",
    "0.106\n",
    "378\n",
    "10\n",
    "0.081\n",
    "388\n",
    "11\n",
    "0.061\n",
    "398\n",
    "12\n",
    "0.048\n",
    "408\n",
    "13\n",
    "0.037\n",
    "418\n",
    "14\n",
    "0.03\n",
    "428\n",
    "15\n",
    "0.024\n",
    "438\n",
    "'''\n",
    "K = A.splitlines()\n",
    "k\n",
    "j = 0\n",
    "T = []\n",
    "V = []\n",
    "for i in K:\n",
    "  j=j+1\n",
    "  if j % 2 == 0:\n",
    "    V.append(float(i))\n",
    "  if j % 3 == 0:\n",
    "    T.append(float(i))\n",
    "    j = 0 ;\n",
    "\n",
    "print('V = ', V)\n",
    "print('T = ', T)\n"
   ]
  },
  {
   "cell_type": "code",
   "execution_count": null,
   "metadata": {
    "id": "fg91DoFCKto4"
   },
   "outputs": [],
   "source": [
    "dataframe.to_excel(\"data_uncertinity.xlsx\") \n"
   ]
  },
  {
   "cell_type": "code",
   "execution_count": null,
   "metadata": {
    "id": "CqPJjUYVKto5"
   },
   "outputs": [],
   "source": [
    "fig2.savefig(\"FigSlopeUnc.png\")"
   ]
  }
 ],
 "metadata": {
  "colab": {
   "collapsed_sections": [],
   "include_colab_link": true,
   "name": "4Probe.ipynb",
   "provenance": []
  },
  "kernelspec": {
   "display_name": "Python 3 (ipykernel)",
   "language": "python",
   "name": "python3"
  },
  "language_info": {
   "codemirror_mode": {
    "name": "ipython",
    "version": 3
   },
   "file_extension": ".py",
   "mimetype": "text/x-python",
   "name": "python",
   "nbconvert_exporter": "python",
   "pygments_lexer": "ipython3",
   "version": "3.10.8"
  }
 },
 "nbformat": 4,
 "nbformat_minor": 1
}
