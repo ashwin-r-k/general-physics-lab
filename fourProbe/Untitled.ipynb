{
 "cells": [
  {
   "cell_type": "code",
   "execution_count": 1,
   "id": "8e5703d7",
   "metadata": {},
   "outputs": [
    {
     "ename": "ImportError",
     "evalue": "libtk8.6.so: cannot open shared object file: No such file or directory",
     "output_type": "error",
     "traceback": [
      "\u001b[0;31m---------------------------------------------------------------------------\u001b[0m",
      "\u001b[0;31mImportError\u001b[0m                               Traceback (most recent call last)",
      "Cell \u001b[0;32mIn [1], line 1\u001b[0m\n\u001b[0;32m----> 1\u001b[0m \u001b[38;5;28;01mfrom\u001b[39;00m \u001b[38;5;21;01mturtle\u001b[39;00m \u001b[38;5;28;01mimport\u001b[39;00m \u001b[38;5;241m*\u001b[39m\n\u001b[1;32m      2\u001b[0m \u001b[38;5;28;01mimport\u001b[39;00m \u001b[38;5;21;01mrandom\u001b[39;00m\n\u001b[1;32m      4\u001b[0m Screen()\u001b[38;5;241m.\u001b[39msetup(width\u001b[38;5;241m=\u001b[39m\u001b[38;5;241m1.0\u001b[39m, height\u001b[38;5;241m=\u001b[39m\u001b[38;5;241m1.0\u001b[39m)\n",
      "File \u001b[0;32m/usr/lib/python3.10/turtle.py:107\u001b[0m\n\u001b[1;32m    103\u001b[0m _ver \u001b[38;5;241m=\u001b[39m \u001b[38;5;124m\"\u001b[39m\u001b[38;5;124mturtle 1.1b- - for Python 3.1   -  4. 5. 2009\u001b[39m\u001b[38;5;124m\"\u001b[39m\n\u001b[1;32m    105\u001b[0m \u001b[38;5;66;03m# print(_ver)\u001b[39;00m\n\u001b[0;32m--> 107\u001b[0m \u001b[38;5;28;01mimport\u001b[39;00m \u001b[38;5;21;01mtkinter\u001b[39;00m \u001b[38;5;28;01mas\u001b[39;00m \u001b[38;5;21;01mTK\u001b[39;00m\n\u001b[1;32m    108\u001b[0m \u001b[38;5;28;01mimport\u001b[39;00m \u001b[38;5;21;01mtypes\u001b[39;00m\n\u001b[1;32m    109\u001b[0m \u001b[38;5;28;01mimport\u001b[39;00m \u001b[38;5;21;01mmath\u001b[39;00m\n",
      "File \u001b[0;32m/usr/lib/python3.10/tkinter/__init__.py:37\u001b[0m\n\u001b[1;32m     34\u001b[0m \u001b[38;5;28;01mimport\u001b[39;00m \u001b[38;5;21;01msys\u001b[39;00m\n\u001b[1;32m     35\u001b[0m \u001b[38;5;28;01mimport\u001b[39;00m \u001b[38;5;21;01mtypes\u001b[39;00m\n\u001b[0;32m---> 37\u001b[0m \u001b[38;5;28;01mimport\u001b[39;00m \u001b[38;5;21;01m_tkinter\u001b[39;00m \u001b[38;5;66;03m# If this fails your Python may not be configured for Tk\u001b[39;00m\n\u001b[1;32m     38\u001b[0m TclError \u001b[38;5;241m=\u001b[39m _tkinter\u001b[38;5;241m.\u001b[39mTclError\n\u001b[1;32m     39\u001b[0m \u001b[38;5;28;01mfrom\u001b[39;00m \u001b[38;5;21;01mtkinter\u001b[39;00m\u001b[38;5;21;01m.\u001b[39;00m\u001b[38;5;21;01mconstants\u001b[39;00m \u001b[38;5;28;01mimport\u001b[39;00m \u001b[38;5;241m*\u001b[39m\n",
      "\u001b[0;31mImportError\u001b[0m: libtk8.6.so: cannot open shared object file: No such file or directory"
     ]
    }
   ],
   "source": [
    "from turtle import *\n",
    "import random\n",
    "\n",
    "Screen().setup(width=1.0, height=1.0)\n",
    "speed(0)\n",
    "\n",
    "fillcolor('#1793d1')\n",
    "begin_fill()\n",
    "penup()\n",
    "sety(-170)\n",
    "setpos((-640, 512))\n",
    "setx(640)\n",
    "setpos((0, -170))\n",
    "end_fill()\n",
    "\n",
    "fillcolor('#d70a53')\n",
    "begin_fill()\n",
    "sety(-512)\n",
    "setx(640)\n",
    "sety(512)\n",
    "end_fill()\n",
    "\n",
    "setx(-640)\n",
    "\n",
    "fillcolor('#072c61')\n",
    "begin_fill()\n",
    "sety(-512)\n",
    "setx(0)\n",
    "sety(-170)\n",
    "end_fill()\n"
   ]
  },
  {
   "cell_type": "code",
   "execution_count": null,
   "id": "d7cb6ba6",
   "metadata": {},
   "outputs": [],
   "source": []
  }
 ],
 "metadata": {
  "kernelspec": {
   "display_name": "Python 3 (ipykernel)",
   "language": "python",
   "name": "python3"
  },
  "language_info": {
   "codemirror_mode": {
    "name": "ipython",
    "version": 3
   },
   "file_extension": ".py",
   "mimetype": "text/x-python",
   "name": "python",
   "nbconvert_exporter": "python",
   "pygments_lexer": "ipython3",
   "version": "3.10.9"
  }
 },
 "nbformat": 4,
 "nbformat_minor": 5
}
