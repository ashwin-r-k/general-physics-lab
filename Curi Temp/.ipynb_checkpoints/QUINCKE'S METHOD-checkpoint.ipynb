{
 "cells": [
  {
   "cell_type": "code",
   "execution_count": 6,
   "id": "d6cbfc03",
   "metadata": {},
   "outputs": [],
   "source": [
    "#-- This will reseted the runtime and  clear all variable.\n",
    "%reset -f\n",
    "#A new Begining\n",
    "\n",
    "#-- importing all the necessary Libraries\n",
    "import numpy as np\n",
    "from matplotlib import pyplot as plt\n",
    "import ipywidgets as widgets\n",
    "from IPython.display import display\n",
    "## --\n",
    "\n",
    "\n",
    "#-- Custome functions to make life easy.\n",
    "# g3 represent Group 3\n",
    "# g3_lable class creates a lable object which can be used with newPlot and multiPlot functions\n",
    "# g3_lable format is \n",
    "#1.  Legend of the plot that u want to make   ) \n",
    "#2. X axis lable ,  3. Y axis lable\n",
    "#3 style of line ploted \n",
    "# this can all be skiped and a defalt plot is made with defalt lable  \n",
    "\n",
    "#newPlot makes a fresh new Figure and plot taking the g3_lable \n",
    "#formate is (x values , y values , g3_lable object )\n",
    "\n",
    "# multiPlot can be used repeteadly to plot on same figure.\n",
    "#formate is (x values , y values , g3_lable object ).\n",
    "\n",
    "\n",
    "class g3_lable:      # New class to make labling easy and code smaller and reusable.\n",
    "  def __init__(self, ll = 'not specified',lx = 'x',ly ='y',style = '-'):\n",
    "    self.ll = ll    # the lable for legend\n",
    "    self.lx = lx    # x axis \n",
    "    self.ly = ly    # y axis\n",
    "    self.style = style\n",
    "\n",
    "\n",
    "def newPlot(x, y, L = g3_lable() ):\n",
    "\n",
    "  fig = plt.figure()\n",
    "  easy = fig.add_subplot(111)   \n",
    "  easy.plot( x, y,  L.style, label = L.ll )\n",
    "  easy.legend()\n",
    "  plt.xlabel( L.lx )\n",
    "  plt.ylabel( L.ly )\n",
    "  plt.show()\n",
    "\n",
    "def multiPlot(x, y, L = g3_lable() ):\n",
    "  plt.plot( x, y, L.style, label = L.ll ,alpha=0.5)\n",
    "  plt.legend()\n",
    "  plt.xlabel( L.lx )\n",
    "  plt.ylabel( L.ly )\n",
    "#--\n"
   ]
  },
  {
   "cell_type": "code",
   "execution_count": 11,
   "id": "87c6bf4a",
   "metadata": {},
   "outputs": [],
   "source": [
    "import pandas as pd"
   ]
  },
  {
   "cell_type": "code",
   "execution_count": 10,
   "id": "6499f4f8",
   "metadata": {},
   "outputs": [
    {
     "name": "stdout",
     "output_type": "stream",
     "text": [
      "Collecting pandas\n",
      "  Obtaining dependency information for pandas from https://files.pythonhosted.org/packages/de/ce/b5d9c7ce1aaf9023b823c81932a50cd5e8f407198a696b0d1c6025a40b03/pandas-2.1.1-cp311-cp311-manylinux_2_17_x86_64.manylinux2014_x86_64.whl.metadata\n",
      "  Downloading pandas-2.1.1-cp311-cp311-manylinux_2_17_x86_64.manylinux2014_x86_64.whl.metadata (18 kB)\n",
      "Requirement already satisfied: numpy>=1.23.2 in /home/ashwin/anaconda3/envs/gpl/lib/python3.11/site-packages (from pandas) (1.26.0)\n",
      "Requirement already satisfied: python-dateutil>=2.8.2 in /home/ashwin/anaconda3/envs/gpl/lib/python3.11/site-packages (from pandas) (2.8.2)\n",
      "Requirement already satisfied: pytz>=2020.1 in /home/ashwin/anaconda3/envs/gpl/lib/python3.11/site-packages (from pandas) (2023.3.post1)\n",
      "Collecting tzdata>=2022.1 (from pandas)\n",
      "  Downloading tzdata-2023.3-py2.py3-none-any.whl (341 kB)\n",
      "\u001b[2K     \u001b[38;2;114;156;31m━━━━━━━━━━━━━━━━━━━━━━━━━━━━━━━━━━━━━━━\u001b[0m \u001b[32m341.8/341.8 kB\u001b[0m \u001b[31m1.6 MB/s\u001b[0m eta \u001b[36m0:00:00\u001b[0m MB/s\u001b[0m eta \u001b[36m0:00:01\u001b[0m:01\u001b[0m\n",
      "\u001b[?25hRequirement already satisfied: six>=1.5 in /home/ashwin/anaconda3/envs/gpl/lib/python3.11/site-packages (from python-dateutil>=2.8.2->pandas) (1.16.0)\n",
      "Downloading pandas-2.1.1-cp311-cp311-manylinux_2_17_x86_64.manylinux2014_x86_64.whl (12.2 MB)\n",
      "\u001b[2K   \u001b[38;2;114;156;31m━━━━━━━━━━━━━━━━━━━━━━━━━━━━━━━━━━━━━━━━\u001b[0m \u001b[32m12.2/12.2 MB\u001b[0m \u001b[31m8.6 MB/s\u001b[0m eta \u001b[36m0:00:00\u001b[0mm eta \u001b[36m0:00:01\u001b[0m0:01\u001b[0m02\u001b[0m\n",
      "\u001b[?25hInstalling collected packages: tzdata, pandas\n",
      "Successfully installed pandas-2.1.1 tzdata-2023.3\n",
      "Note: you may need to restart the kernel to use updated packages.\n"
     ]
    }
   ],
   "source": [
    "pip install pandas"
   ]
  },
  {
   "cell_type": "code",
   "execution_count": null,
   "id": "69447cd9",
   "metadata": {},
   "outputs": [],
   "source": [
    "df = pd.read_excel(r'/home/ashwin/Git/general-physics-lab/electro_optic_effect/electro_optic.xlsx')\n",
    "print(df)"
   ]
  },
  {
   "cell_type": "code",
   "execution_count": null,
   "id": "7fd25425",
   "metadata": {},
   "outputs": [],
   "source": [
    "x=df['x'].to_numpy()\n",
    "y=df['y'].to_numpy()"
   ]
  },
  {
   "cell_type": "code",
   "execution_count": null,
   "id": "b244da59",
   "metadata": {},
   "outputs": [],
   "source": [
    "def (loc):\n",
    "    df = pd.read_excel(r'{0}'.format(loc))\n",
    "    \n",
    "    xdf=df['x'].to_numpy()\n",
    "    ydf=df['y'].to_numpy()\n",
    "    \n",
    "    x=xdf[:]\n",
    "    y=ydf[:]\n",
    "    \n",
    "    deg=1\n",
    "\n",
    "    result=np.polyfit(x,y,deg)\n",
    "    \n",
    "    p = np.poly1d(result)\n",
    "\n",
    "    xp = np.linspace(min(x),max(x))\n",
    "    plt.figure()\n",
    "    plt.plot(x, y, 'og',label=\"Observed Data Points\")\n",
    "    plt.plot(xp, p(xp),'k',label=\"Curve fitting as a polynomial\")\n",
    "    plt.xlabel(\"x\")\n",
    "    plt.ylabel(\"y\")\n",
    "    plt.grid(\"TRUE\")\n",
    "    \n",
    "    plt.legend()\n"
   ]
  }
 ],
 "metadata": {
  "kernelspec": {
   "display_name": "Python 3 (ipykernel)",
   "language": "python",
   "name": "python3"
  },
  "language_info": {
   "codemirror_mode": {
    "name": "ipython",
    "version": 3
   },
   "file_extension": ".py",
   "mimetype": "text/x-python",
   "name": "python",
   "nbconvert_exporter": "python",
   "pygments_lexer": "ipython3",
   "version": "3.11.5"
  }
 },
 "nbformat": 4,
 "nbformat_minor": 5
}
